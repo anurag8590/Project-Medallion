{
 "cells": [
  {
   "cell_type": "markdown",
   "metadata": {
    "application/vnd.databricks.v1+cell": {
     "cellMetadata": {},
     "inputWidgets": {},
     "nuid": "34cff8ae-052e-40ca-9814-ced504122df6",
     "showTitle": false,
     "tableResultSettingsMap": {},
     "title": ""
    }
   },
   "source": [
    "#### Setting the Credentials"
   ]
  },
  {
   "cell_type": "code",
   "execution_count": 0,
   "metadata": {
    "application/vnd.databricks.v1+cell": {
     "cellMetadata": {
      "byteLimit": 2048000,
      "rowLimit": 10000
     },
     "inputWidgets": {},
     "nuid": "4d0b8b8c-608a-4305-b916-71f967c760b4",
     "showTitle": false,
     "tableResultSettingsMap": {},
     "title": ""
    }
   },
   "outputs": [],
   "source": [
    "%run /Workspace/ProjectMedallion/nb_setup_cred"
   ]
  },
  {
   "cell_type": "markdown",
   "metadata": {
    "application/vnd.databricks.v1+cell": {
     "cellMetadata": {},
     "inputWidgets": {},
     "nuid": "3b3222fa-e9cc-4ac5-8710-3bdefb49fb13",
     "showTitle": false,
     "tableResultSettingsMap": {},
     "title": ""
    }
   },
   "source": [
    "#### Import Libs"
   ]
  },
  {
   "cell_type": "code",
   "execution_count": 0,
   "metadata": {
    "application/vnd.databricks.v1+cell": {
     "cellMetadata": {
      "byteLimit": 2048000,
      "rowLimit": 10000
     },
     "inputWidgets": {},
     "nuid": "95c1b327-6610-4425-96d2-34ba5bc2d455",
     "showTitle": false,
     "tableResultSettingsMap": {},
     "title": ""
    }
   },
   "outputs": [],
   "source": [
    "from pyspark.sql.types import *\n",
    "from pyspark.sql.functions import *\n",
    "from pyspark.sql.window import Window"
   ]
  },
  {
   "cell_type": "markdown",
   "metadata": {
    "application/vnd.databricks.v1+cell": {
     "cellMetadata": {
      "byteLimit": 2048000,
      "rowLimit": 10000
     },
     "inputWidgets": {},
     "nuid": "36f9ce2c-9c73-40e5-b9a6-b41c5995f6e9",
     "showTitle": false,
     "tableResultSettingsMap": {},
     "title": ""
    }
   },
   "source": [
    "#### Reading the data"
   ]
  },
  {
   "cell_type": "code",
   "execution_count": 0,
   "metadata": {
    "application/vnd.databricks.v1+cell": {
     "cellMetadata": {
      "byteLimit": 2048000,
      "rowLimit": 10000
     },
     "inputWidgets": {},
     "nuid": "16d2f9eb-afa1-41c6-be21-91796c3a4a0d",
     "showTitle": false,
     "tableResultSettingsMap": {},
     "title": ""
    }
   },
   "outputs": [],
   "source": [
    "\n",
    "df = spark.read.format(\"csv\")\\\n",
    "               .option(\"header\", \"true\")\\\n",
    "               .option(\"inferSchema\", \"true\")\\\n",
    "               .load(ds_path)"
   ]
  },
  {
   "cell_type": "code",
   "execution_count": 0,
   "metadata": {
    "application/vnd.databricks.v1+cell": {
     "cellMetadata": {
      "byteLimit": 2048000,
      "rowLimit": 10000
     },
     "inputWidgets": {},
     "nuid": "c231d145-e715-4842-9071-21460e8a9f8c",
     "showTitle": false,
     "tableResultSettingsMap": {},
     "title": ""
    }
   },
   "outputs": [],
   "source": [
    "# df = df.withColumn(\"ID\",monotonically_increasing_id())"
   ]
  },
  {
   "cell_type": "code",
   "execution_count": 0,
   "metadata": {
    "application/vnd.databricks.v1+cell": {
     "cellMetadata": {
      "byteLimit": 2048000,
      "rowLimit": 10000
     },
     "inputWidgets": {},
     "nuid": "8f3b87cd-de4d-4a08-aad6-22cd9a6c0b45",
     "showTitle": false,
     "tableResultSettingsMap": {},
     "title": ""
    }
   },
   "outputs": [
    {
     "output_type": "execute_result",
     "data": {
      "text/plain": [
       "111394"
      ]
     },
     "execution_count": 8,
     "metadata": {},
     "output_type": "execute_result"
    }
   ],
   "source": [
    "# df.count()"
   ]
  },
  {
   "cell_type": "markdown",
   "metadata": {
    "application/vnd.databricks.v1+cell": {
     "cellMetadata": {},
     "inputWidgets": {},
     "nuid": "0ea65fef-f95e-4b6e-ad2d-ef6faad7fe41",
     "showTitle": false,
     "tableResultSettingsMap": {},
     "title": ""
    }
   },
   "source": [
    "#### Transformation"
   ]
  },
  {
   "cell_type": "code",
   "execution_count": 0,
   "metadata": {
    "application/vnd.databricks.v1+cell": {
     "cellMetadata": {
      "byteLimit": 2048000,
      "rowLimit": 10000
     },
     "inputWidgets": {},
     "nuid": "0dcccfe0-c3be-4b4f-8215-45b965a5d793",
     "showTitle": false,
     "tableResultSettingsMap": {},
     "title": ""
    }
   },
   "outputs": [],
   "source": [
    "def transform(df):\n",
    "\n",
    "    df = df.dropna(how='any').withColumn(\"ID\",monotonically_increasing_id())\n",
    "\n",
    "    window_spec = Window.partitionBy('Policy Reference',\n",
    "                                    'Inception Date',\n",
    "                                    'Expiry Date',\n",
    "                                    'Underwriter Name',\n",
    "                                    'Department',\n",
    "                                    'TriFocus Group',\n",
    "                                    'Policy YOA',\n",
    "                                    'Stats Code',\n",
    "                                    'Policy Settlement Currency',\n",
    "                                    'Syndicate Number',\n",
    "                                    'Total Acquisition Cost',\n",
    "                                    'Estimated Premium Income',\n",
    "                                    'MOP',\n",
    "                                    'report_date').orderBy('ID')\n",
    "\n",
    "    df_with_row_number = df.withColumn('rownumber', row_number().over(window_spec))\n",
    "\n",
    "    df = df_with_row_number.filter(df_with_row_number.rownumber == 1).drop(\"rownumber\")\\\n",
    "                           .withColumn('Gross Written Premium',(col('Estimated Premium Income') - col('Total Acquisition Cost')))\\\n",
    "                           .withColumn('MOP', trim(col('MOP')))\\\n",
    "                           .withColumn('Binder', when((col('MOP') == 'B') | (col('MOP') == 'L'), 1).otherwise(0))\\\n",
    "                           .withColumn('Acquisition Costs', col('Total Acquisition Cost'))\n",
    "    \n",
    "    df = df.select([col(x).alias(x.replace(' ', '')) for x in df.columns])\n",
    "\n",
    "    return df"
   ]
  },
  {
   "cell_type": "code",
   "execution_count": 0,
   "metadata": {
    "application/vnd.databricks.v1+cell": {
     "cellMetadata": {
      "byteLimit": 2048000,
      "rowLimit": 10000
     },
     "inputWidgets": {},
     "nuid": "98dbc657-7de4-40bb-8b1e-0579b119889a",
     "showTitle": false,
     "tableResultSettingsMap": {},
     "title": ""
    }
   },
   "outputs": [
    {
     "output_type": "stream",
     "name": "stdout",
     "output_type": "stream",
     "text": [
      "== Parsed Logical Plan ==\nProject [PolicyReference#51, InceptionDate#67, ExpiryDate#82, UnderwriterName#97, Department#112, TriFocusGroup#127, PolicyYOA#142, StatsCode#157, PolicySettlementCurrency#172, SyndicateNumber#187, TotalAcquisitionCost#202, EstimatedPremiumIncome#217, MOP#232, report_date#36 AS report_date#247]\n+- Project [PolicyReference#51, InceptionDate#67, ExpiryDate#82, UnderwriterName#97, Department#112, TriFocusGroup#127, PolicyYOA#142, StatsCode#157, PolicySettlementCurrency#172, SyndicateNumber#187, TotalAcquisitionCost#202, EstimatedPremiumIncome#217, MOP#35 AS MOP#232, report_date#36]\n   +- Project [PolicyReference#51, InceptionDate#67, ExpiryDate#82, UnderwriterName#97, Department#112, TriFocusGroup#127, PolicyYOA#142, StatsCode#157, PolicySettlementCurrency#172, SyndicateNumber#187, TotalAcquisitionCost#202, Estimated Premium Income#34 AS EstimatedPremiumIncome#217, MOP#35, report_date#36]\n      +- Project [PolicyReference#51, InceptionDate#67, ExpiryDate#82, UnderwriterName#97, Department#112, TriFocusGroup#127, PolicyYOA#142, StatsCode#157, PolicySettlementCurrency#172, SyndicateNumber#187, Total Acquisition Cost#33 AS TotalAcquisitionCost#202, Estimated Premium Income#34, MOP#35, report_date#36]\n         +- Project [PolicyReference#51, InceptionDate#67, ExpiryDate#82, UnderwriterName#97, Department#112, TriFocusGroup#127, PolicyYOA#142, StatsCode#157, PolicySettlementCurrency#172, Syndicate Number#32 AS SyndicateNumber#187, Total Acquisition Cost#33, Estimated Premium Income#34, MOP#35, report_date#36]\n            +- Project [PolicyReference#51, InceptionDate#67, ExpiryDate#82, UnderwriterName#97, Department#112, TriFocusGroup#127, PolicyYOA#142, StatsCode#157, Policy Settlement Currency#31 AS PolicySettlementCurrency#172, Syndicate Number#32, Total Acquisition Cost#33, Estimated Premium Income#34, MOP#35, report_date#36]\n               +- Project [PolicyReference#51, InceptionDate#67, ExpiryDate#82, UnderwriterName#97, Department#112, TriFocusGroup#127, PolicyYOA#142, Stats Code#30 AS StatsCode#157, Policy Settlement Currency#31, Syndicate Number#32, Total Acquisition Cost#33, Estimated Premium Income#34, MOP#35, report_date#36]\n                  +- Project [PolicyReference#51, InceptionDate#67, ExpiryDate#82, UnderwriterName#97, Department#112, TriFocusGroup#127, Policy YOA#29 AS PolicyYOA#142, Stats Code#30, Policy Settlement Currency#31, Syndicate Number#32, Total Acquisition Cost#33, Estimated Premium Income#34, MOP#35, report_date#36]\n                     +- Project [PolicyReference#51, InceptionDate#67, ExpiryDate#82, UnderwriterName#97, Department#112, TriFocus Group#28 AS TriFocusGroup#127, Policy YOA#29, Stats Code#30, Policy Settlement Currency#31, Syndicate Number#32, Total Acquisition Cost#33, Estimated Premium Income#34, MOP#35, report_date#36]\n                        +- Project [PolicyReference#51, InceptionDate#67, ExpiryDate#82, UnderwriterName#97, Department#27 AS Department#112, TriFocus Group#28, Policy YOA#29, Stats Code#30, Policy Settlement Currency#31, Syndicate Number#32, Total Acquisition Cost#33, Estimated Premium Income#34, MOP#35, report_date#36]\n                           +- Project [PolicyReference#51, InceptionDate#67, ExpiryDate#82, Underwriter Name#26 AS UnderwriterName#97, Department#27, TriFocus Group#28, Policy YOA#29, Stats Code#30, Policy Settlement Currency#31, Syndicate Number#32, Total Acquisition Cost#33, Estimated Premium Income#34, MOP#35, report_date#36]\n                              +- Project [PolicyReference#51, InceptionDate#67, Expiry Date#25 AS ExpiryDate#82, Underwriter Name#26, Department#27, TriFocus Group#28, Policy YOA#29, Stats Code#30, Policy Settlement Currency#31, Syndicate Number#32, Total Acquisition Cost#33, Estimated Premium Income#34, MOP#35, report_date#36]\n                                 +- Project [PolicyReference#51, Inception Date#24 AS InceptionDate#67, Expiry Date#25, Underwriter Name#26, Department#27, TriFocus Group#28, Policy YOA#29, Stats Code#30, Policy Settlement Currency#31, Syndicate Number#32, Total Acquisition Cost#33, Estimated Premium Income#34, MOP#35, report_date#36]\n                                    +- Project [Policy Reference#23 AS PolicyReference#51, Inception Date#24, Expiry Date#25, Underwriter Name#26, Department#27, TriFocus Group#28, Policy YOA#29, Stats Code#30, Policy Settlement Currency#31, Syndicate Number#32, Total Acquisition Cost#33, Estimated Premium Income#34, MOP#35, report_date#36]\n                                       +- Relation [Policy Reference#23,Inception Date#24,Expiry Date#25,Underwriter Name#26,Department#27,TriFocus Group#28,Policy YOA#29,Stats Code#30,Policy Settlement Currency#31,Syndicate Number#32,Total Acquisition Cost#33,Estimated Premium Income#34,MOP#35,report_date#36] csv\n\n== Analyzed Logical Plan ==\nPolicyReference: string, InceptionDate: string, ExpiryDate: string, UnderwriterName: string, Department: string, TriFocusGroup: string, PolicyYOA: int, StatsCode: string, PolicySettlementCurrency: string, SyndicateNumber: int, TotalAcquisitionCost: double, EstimatedPremiumIncome: double, MOP: string, report_date: string\nProject [PolicyReference#51, InceptionDate#67, ExpiryDate#82, UnderwriterName#97, Department#112, TriFocusGroup#127, PolicyYOA#142, StatsCode#157, PolicySettlementCurrency#172, SyndicateNumber#187, TotalAcquisitionCost#202, EstimatedPremiumIncome#217, MOP#232, report_date#36 AS report_date#247]\n+- Project [PolicyReference#51, InceptionDate#67, ExpiryDate#82, UnderwriterName#97, Department#112, TriFocusGroup#127, PolicyYOA#142, StatsCode#157, PolicySettlementCurrency#172, SyndicateNumber#187, TotalAcquisitionCost#202, EstimatedPremiumIncome#217, MOP#35 AS MOP#232, report_date#36]\n   +- Project [PolicyReference#51, InceptionDate#67, ExpiryDate#82, UnderwriterName#97, Department#112, TriFocusGroup#127, PolicyYOA#142, StatsCode#157, PolicySettlementCurrency#172, SyndicateNumber#187, TotalAcquisitionCost#202, Estimated Premium Income#34 AS EstimatedPremiumIncome#217, MOP#35, report_date#36]\n      +- Project [PolicyReference#51, InceptionDate#67, ExpiryDate#82, UnderwriterName#97, Department#112, TriFocusGroup#127, PolicyYOA#142, StatsCode#157, PolicySettlementCurrency#172, SyndicateNumber#187, Total Acquisition Cost#33 AS TotalAcquisitionCost#202, Estimated Premium Income#34, MOP#35, report_date#36]\n         +- Project [PolicyReference#51, InceptionDate#67, ExpiryDate#82, UnderwriterName#97, Department#112, TriFocusGroup#127, PolicyYOA#142, StatsCode#157, PolicySettlementCurrency#172, Syndicate Number#32 AS SyndicateNumber#187, Total Acquisition Cost#33, Estimated Premium Income#34, MOP#35, report_date#36]\n            +- Project [PolicyReference#51, InceptionDate#67, ExpiryDate#82, UnderwriterName#97, Department#112, TriFocusGroup#127, PolicyYOA#142, StatsCode#157, Policy Settlement Currency#31 AS PolicySettlementCurrency#172, Syndicate Number#32, Total Acquisition Cost#33, Estimated Premium Income#34, MOP#35, report_date#36]\n               +- Project [PolicyReference#51, InceptionDate#67, ExpiryDate#82, UnderwriterName#97, Department#112, TriFocusGroup#127, PolicyYOA#142, Stats Code#30 AS StatsCode#157, Policy Settlement Currency#31, Syndicate Number#32, Total Acquisition Cost#33, Estimated Premium Income#34, MOP#35, report_date#36]\n                  +- Project [PolicyReference#51, InceptionDate#67, ExpiryDate#82, UnderwriterName#97, Department#112, TriFocusGroup#127, Policy YOA#29 AS PolicyYOA#142, Stats Code#30, Policy Settlement Currency#31, Syndicate Number#32, Total Acquisition Cost#33, Estimated Premium Income#34, MOP#35, report_date#36]\n                     +- Project [PolicyReference#51, InceptionDate#67, ExpiryDate#82, UnderwriterName#97, Department#112, TriFocus Group#28 AS TriFocusGroup#127, Policy YOA#29, Stats Code#30, Policy Settlement Currency#31, Syndicate Number#32, Total Acquisition Cost#33, Estimated Premium Income#34, MOP#35, report_date#36]\n                        +- Project [PolicyReference#51, InceptionDate#67, ExpiryDate#82, UnderwriterName#97, Department#27 AS Department#112, TriFocus Group#28, Policy YOA#29, Stats Code#30, Policy Settlement Currency#31, Syndicate Number#32, Total Acquisition Cost#33, Estimated Premium Income#34, MOP#35, report_date#36]\n                           +- Project [PolicyReference#51, InceptionDate#67, ExpiryDate#82, Underwriter Name#26 AS UnderwriterName#97, Department#27, TriFocus Group#28, Policy YOA#29, Stats Code#30, Policy Settlement Currency#31, Syndicate Number#32, Total Acquisition Cost#33, Estimated Premium Income#34, MOP#35, report_date#36]\n                              +- Project [PolicyReference#51, InceptionDate#67, Expiry Date#25 AS ExpiryDate#82, Underwriter Name#26, Department#27, TriFocus Group#28, Policy YOA#29, Stats Code#30, Policy Settlement Currency#31, Syndicate Number#32, Total Acquisition Cost#33, Estimated Premium Income#34, MOP#35, report_date#36]\n                                 +- Project [PolicyReference#51, Inception Date#24 AS InceptionDate#67, Expiry Date#25, Underwriter Name#26, Department#27, TriFocus Group#28, Policy YOA#29, Stats Code#30, Policy Settlement Currency#31, Syndicate Number#32, Total Acquisition Cost#33, Estimated Premium Income#34, MOP#35, report_date#36]\n                                    +- Project [Policy Reference#23 AS PolicyReference#51, Inception Date#24, Expiry Date#25, Underwriter Name#26, Department#27, TriFocus Group#28, Policy YOA#29, Stats Code#30, Policy Settlement Currency#31, Syndicate Number#32, Total Acquisition Cost#33, Estimated Premium Income#34, MOP#35, report_date#36]\n                                       +- Relation [Policy Reference#23,Inception Date#24,Expiry Date#25,Underwriter Name#26,Department#27,TriFocus Group#28,Policy YOA#29,Stats Code#30,Policy Settlement Currency#31,Syndicate Number#32,Total Acquisition Cost#33,Estimated Premium Income#34,MOP#35,report_date#36] csv\n\n== Optimized Logical Plan ==\nProject [Policy Reference#23 AS PolicyReference#51, Inception Date#24 AS InceptionDate#67, Expiry Date#25 AS ExpiryDate#82, Underwriter Name#26 AS UnderwriterName#97, Department#27, TriFocus Group#28 AS TriFocusGroup#127, Policy YOA#29 AS PolicyYOA#142, Stats Code#30 AS StatsCode#157, Policy Settlement Currency#31 AS PolicySettlementCurrency#172, Syndicate Number#32 AS SyndicateNumber#187, Total Acquisition Cost#33 AS TotalAcquisitionCost#202, Estimated Premium Income#34 AS EstimatedPremiumIncome#217, MOP#35, report_date#36]\n+- Relation [Policy Reference#23,Inception Date#24,Expiry Date#25,Underwriter Name#26,Department#27,TriFocus Group#28,Policy YOA#29,Stats Code#30,Policy Settlement Currency#31,Syndicate Number#32,Total Acquisition Cost#33,Estimated Premium Income#34,MOP#35,report_date#36] csv\n\n== Physical Plan ==\n*(1) Project [Policy Reference#23 AS PolicyReference#51, Inception Date#24 AS InceptionDate#67, Expiry Date#25 AS ExpiryDate#82, Underwriter Name#26 AS UnderwriterName#97, Department#27, TriFocus Group#28 AS TriFocusGroup#127, Policy YOA#29 AS PolicyYOA#142, Stats Code#30 AS StatsCode#157, Policy Settlement Currency#31 AS PolicySettlementCurrency#172, Syndicate Number#32 AS SyndicateNumber#187, Total Acquisition Cost#33 AS TotalAcquisitionCost#202, Estimated Premium Income#34 AS EstimatedPremiumIncome#217, MOP#35, report_date#36]\n+- FileScan csv [Policy Reference#23,Inception Date#24,Expiry Date#25,Underwriter Name#26,Department#27,TriFocus Group#28,Policy YOA#29,Stats Code#30,Policy Settlement Currency#31,Syndicate Number#32,Total Acquisition Cost#33,Estimated Premium Income#34,MOP#35,report_date#36] Batched: false, DataFilters: [], Format: CSV, Location: InMemoryFileIndex(1 paths)[abfss://raw@azureblobstorage404.dfs.core.windows.net/data.csv], PartitionFilters: [], PushedFilters: [], ReadSchema: struct<Policy Reference:string,Inception Date:string,Expiry Date:string,Underwriter Name:string,D...\n\n"
     ]
    }
   ],
   "source": [
    "# df.explain(extended=True)"
   ]
  },
  {
   "cell_type": "code",
   "execution_count": 0,
   "metadata": {
    "application/vnd.databricks.v1+cell": {
     "cellMetadata": {
      "byteLimit": 2048000,
      "rowLimit": 10000
     },
     "inputWidgets": {},
     "nuid": "f9a180a0-8f41-4cce-b99b-23216bd3b14e",
     "showTitle": false,
     "tableResultSettingsMap": {},
     "title": ""
    }
   },
   "outputs": [],
   "source": [
    "# df = df.select([col(x).alias(x.replace(' ', '')) for x in df.columns\n",
    "# ])"
   ]
  },
  {
   "cell_type": "code",
   "execution_count": 0,
   "metadata": {
    "application/vnd.databricks.v1+cell": {
     "cellMetadata": {
      "byteLimit": 2048000,
      "rowLimit": 10000
     },
     "inputWidgets": {},
     "nuid": "2392267f-b58a-4c79-9f49-1bb11c33624c",
     "showTitle": false,
     "tableResultSettingsMap": {},
     "title": ""
    }
   },
   "outputs": [],
   "source": [
    "df = transform(df)"
   ]
  },
  {
   "cell_type": "code",
   "execution_count": 0,
   "metadata": {
    "application/vnd.databricks.v1+cell": {
     "cellMetadata": {
      "byteLimit": 2048000,
      "rowLimit": 10000
     },
     "inputWidgets": {},
     "nuid": "f74c680c-4428-4a7d-8c2f-c7501e7e967d",
     "showTitle": false,
     "tableResultSettingsMap": {},
     "title": ""
    }
   },
   "outputs": [],
   "source": [
    "# col_names = df.columns\n"
   ]
  },
  {
   "cell_type": "code",
   "execution_count": 0,
   "metadata": {
    "application/vnd.databricks.v1+cell": {
     "cellMetadata": {
      "byteLimit": 2048000,
      "rowLimit": 10000
     },
     "inputWidgets": {},
     "nuid": "7ac2aaf0-f681-401c-8345-9fde99eae842",
     "showTitle": false,
     "tableResultSettingsMap": {},
     "title": ""
    }
   },
   "outputs": [],
   "source": [
    "# col_names"
   ]
  },
  {
   "cell_type": "code",
   "execution_count": 0,
   "metadata": {
    "application/vnd.databricks.v1+cell": {
     "cellMetadata": {
      "byteLimit": 2048000,
      "rowLimit": 10000
     },
     "inputWidgets": {},
     "nuid": "79e259c4-3a44-4321-a371-bbf297c03352",
     "showTitle": false,
     "tableResultSettingsMap": {},
     "title": ""
    }
   },
   "outputs": [],
   "source": [
    "# df = df.filter(~(col('Total Acquisition Cost')== 0) & ~(col('Estimated Premium Income') == 0))"
   ]
  },
  {
   "cell_type": "code",
   "execution_count": 0,
   "metadata": {
    "application/vnd.databricks.v1+cell": {
     "cellMetadata": {
      "byteLimit": 2048000,
      "rowLimit": 10000
     },
     "inputWidgets": {},
     "nuid": "8213ebf4-5c2c-4407-b9ea-2c7b923974ab",
     "showTitle": false,
     "tableResultSettingsMap": {},
     "title": ""
    }
   },
   "outputs": [],
   "source": [
    "# window_spec = Window.partitionBy('Policy Reference',\n",
    "#  'Inception Date',\n",
    "#  'Expiry Date',\n",
    "#  'Underwriter Name',\n",
    "#  'Department',\n",
    "#  'TriFocus Group',\n",
    "#  'Policy YOA',\n",
    "#  'Stats Code',\n",
    "#  'Policy Settlement Currency',\n",
    "#  'Syndicate Number',\n",
    "#  'Total Acquisition Cost',\n",
    "#  'Estimated Premium Income',\n",
    "#  'MOP',\n",
    "#  'report_date').orderBy('ID')\n",
    "\n",
    "# df_with_row_number = df.withColumn(\"row_number\", row_number().over(window_spec))\n",
    "\n",
    "# df = df_with_row_number.filter(df_with_row_number.row_number == 1).drop(\"row_number\")"
   ]
  },
  {
   "cell_type": "code",
   "execution_count": 0,
   "metadata": {
    "application/vnd.databricks.v1+cell": {
     "cellMetadata": {
      "byteLimit": 2048000,
      "rowLimit": 10000
     },
     "inputWidgets": {},
     "nuid": "c993625b-d3b8-4f07-be6a-9afd7a7b5ca3",
     "showTitle": false,
     "tableResultSettingsMap": {},
     "title": ""
    }
   },
   "outputs": [],
   "source": [
    "# df = df.withColumn('Gross Written Premium',(col('Estimated Premium Income') - col('Total Acquisition Cost')))"
   ]
  },
  {
   "cell_type": "code",
   "execution_count": 0,
   "metadata": {
    "application/vnd.databricks.v1+cell": {
     "cellMetadata": {
      "byteLimit": 2048000,
      "rowLimit": 10000
     },
     "inputWidgets": {},
     "nuid": "fee50077-dd58-4aa0-9f99-50b1412214ea",
     "showTitle": false,
     "tableResultSettingsMap": {},
     "title": ""
    }
   },
   "outputs": [],
   "source": [
    "\n",
    "# # Remove leading/trailing spaces\n",
    "# df = df.withColumn('MOP', trim(col('MOP')))"
   ]
  },
  {
   "cell_type": "code",
   "execution_count": 0,
   "metadata": {
    "application/vnd.databricks.v1+cell": {
     "cellMetadata": {
      "byteLimit": 2048000,
      "rowLimit": 10000
     },
     "inputWidgets": {},
     "nuid": "db68a7b0-f863-4155-b3d1-621f41b5006a",
     "showTitle": false,
     "tableResultSettingsMap": {},
     "title": ""
    }
   },
   "outputs": [],
   "source": [
    "# df = df.withColumn('Binder', when((col('MOP') == 'B') | (col('MOP') == 'L'), 1).otherwise(0))"
   ]
  },
  {
   "cell_type": "code",
   "execution_count": 0,
   "metadata": {
    "application/vnd.databricks.v1+cell": {
     "cellMetadata": {
      "byteLimit": 2048000,
      "rowLimit": 10000
     },
     "inputWidgets": {},
     "nuid": "31a41a95-5adf-4b14-bb8e-318e6ba8c66e",
     "showTitle": false,
     "tableResultSettingsMap": {},
     "title": ""
    }
   },
   "outputs": [],
   "source": [
    "# df = df.withColumn('Acquisition Costs', col('Total Acquisition Cost'))"
   ]
  },
  {
   "cell_type": "code",
   "execution_count": 0,
   "metadata": {
    "application/vnd.databricks.v1+cell": {
     "cellMetadata": {
      "byteLimit": 2048000,
      "rowLimit": 10000
     },
     "inputWidgets": {},
     "nuid": "a925f883-9030-4246-b2c9-62760987e9b5",
     "showTitle": false,
     "tableResultSettingsMap": {},
     "title": ""
    }
   },
   "outputs": [],
   "source": [
    "# columns_new = df.columns\n",
    "# columns_new"
   ]
  },
  {
   "cell_type": "code",
   "execution_count": 0,
   "metadata": {
    "application/vnd.databricks.v1+cell": {
     "cellMetadata": {
      "byteLimit": 2048000,
      "rowLimit": 10000
     },
     "inputWidgets": {},
     "nuid": "6a62b9e7-7c8d-40b1-ab2c-6d74edc19aaa",
     "showTitle": false,
     "tableResultSettingsMap": {},
     "title": ""
    }
   },
   "outputs": [],
   "source": [
    "# for columns in columns_new:\n",
    "#     df = df.withColumnRenamed(columns, columns.replace(' ', ''))"
   ]
  },
  {
   "cell_type": "markdown",
   "metadata": {
    "application/vnd.databricks.v1+cell": {
     "cellMetadata": {},
     "inputWidgets": {},
     "nuid": "8c1b21b3-b36e-49bd-ad5f-16795b774e05",
     "showTitle": false,
     "tableResultSettingsMap": {},
     "title": ""
    }
   },
   "source": [
    "#### Saving as Parquet (delta) "
   ]
  },
  {
   "cell_type": "code",
   "execution_count": 0,
   "metadata": {
    "application/vnd.databricks.v1+cell": {
     "cellMetadata": {},
     "inputWidgets": {},
     "nuid": "6cd980f7-130a-4904-aab8-b50778d2fb7a",
     "showTitle": false,
     "tableResultSettingsMap": {},
     "title": ""
    }
   },
   "outputs": [],
   "source": [
    "df.write.format('delta')\\\n",
    "        .mode('overwrite')\\\n",
    "        .option('path','abfss://silver@azureblobstorage404.dfs.core.windows.net/')\\\n",
    "        .save()"
   ]
  }
 ],
 "metadata": {
  "application/vnd.databricks.v1+notebook": {
   "computePreferences": null,
   "dashboards": [],
   "environmentMetadata": {
    "base_environment": "",
    "environment_version": "1"
   },
   "language": "python",
   "notebookMetadata": {
    "mostRecentlyExecutedCommandWithImplicitDF": {
     "commandId": 482378629251872,
     "dataframes": [
      "_sqldf"
     ]
    },
    "pythonIndentUnit": 4
   },
   "notebookName": "nb_silver",
   "widgets": {}
  },
  "language_info": {
   "name": "python"
  }
 },
 "nbformat": 4,
 "nbformat_minor": 0
}