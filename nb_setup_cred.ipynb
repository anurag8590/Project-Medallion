{
 "cells": [
  {
   "cell_type": "code",
   "execution_count": 0,
   "metadata": {
    "application/vnd.databricks.v1+cell": {
     "cellMetadata": {
      "byteLimit": 2048000,
      "rowLimit": 10000
     },
     "inputWidgets": {},
     "nuid": "3fb4260d-bc48-4d2a-bde8-f8945a80f8c2",
     "showTitle": false,
     "tableResultSettingsMap": {},
     "title": ""
    }
   },
   "outputs": [],
   "source": [
    "appid = dbutils.secrets.get(scope=\"anurag-scope\", key=\"app-id\")\n",
    "secret = dbutils.secrets.get(scope=\"anurag-scope\", key=\"secret-value\")\n",
    "tenantid = dbutils.secrets.get(scope=\"anurag-scope\", key=\"tenant-id\")"
   ]
  },
  {
   "cell_type": "code",
   "execution_count": 0,
   "metadata": {
    "application/vnd.databricks.v1+cell": {
     "cellMetadata": {
      "byteLimit": 2048000,
      "rowLimit": 10000
     },
     "inputWidgets": {},
     "nuid": "53f0c76a-2e61-4093-a19c-1cf80348f522",
     "showTitle": false,
     "tableResultSettingsMap": {},
     "title": ""
    }
   },
   "outputs": [],
   "source": [
    "spark.conf.set(\"fs.azure.account.auth.type.azureblobstorage404.dfs.core.windows.net\", \"OAuth\")\n",
    "spark.conf.set(\"fs.azure.account.oauth.provider.type.azureblobstorage404.dfs.core.windows.net\", \"org.apache.hadoop.fs.azurebfs.oauth2.ClientCredsTokenProvider\")\n",
    "spark.conf.set(\"fs.azure.account.oauth2.client.id.azureblobstorage404.dfs.core.windows.net\", appid)\n",
    "spark.conf.set(\"fs.azure.account.oauth2.client.secret.azureblobstorage404.dfs.core.windows.net\", secret)\n",
    "spark.conf.set(\"fs.azure.account.oauth2.client.endpoint.azureblobstorage404.dfs.core.windows.net\", f\"https://login.microsoftonline.com/{tenantid}/oauth2/token\")"
   ]
  }
 ],
 "metadata": {
  "application/vnd.databricks.v1+notebook": {
   "computePreferences": null,
   "dashboards": [],
   "environmentMetadata": {
    "base_environment": "",
    "environment_version": "1"
   },
   "language": "python",
   "notebookMetadata": {
    "pythonIndentUnit": 4
   },
   "notebookName": "nb_setup_cred",
   "widgets": {}
  },
  "language_info": {
   "name": "python"
  }
 },
 "nbformat": 4,
 "nbformat_minor": 0
}